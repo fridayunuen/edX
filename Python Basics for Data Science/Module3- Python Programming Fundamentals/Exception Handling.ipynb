{
 "cells": [
  {
   "cell_type": "markdown",
   "metadata": {},
   "source": [
    "# Exception Handling\n",
    "\n",
    "An exception is an error that occurs during the execution of code. This error causes the code to raise an exception and if not prepared to handle it will halt the execution of the code.\n",
    "\n"
   ]
  },
  {
   "cell_type": "code",
   "execution_count": 1,
   "metadata": {},
   "outputs": [
    {
     "ename": "ZeroDivisionError",
     "evalue": "division by zero",
     "output_type": "error",
     "traceback": [
      "\u001b[1;31m---------------------------------------------------------------------------\u001b[0m",
      "\u001b[1;31mZeroDivisionError\u001b[0m                         Traceback (most recent call last)",
      "\u001b[1;32mc:\\Users\\fcolin\\Documents\\Untitled Folder 1\\Module3- Python Programming Fundamentals\\Exception Handling.ipynb Celda 2\u001b[0m in \u001b[0;36m<cell line: 1>\u001b[1;34m()\u001b[0m\n\u001b[1;32m----> <a href='vscode-notebook-cell:/c%3A/Users/fcolin/Documents/Untitled%20Folder%201/Module3-%20Python%20Programming%20Fundamentals/Exception%20Handling.ipynb#W0sZmlsZQ%3D%3D?line=0'>1</a>\u001b[0m \u001b[39m1\u001b[39;49m\u001b[39m/\u001b[39;49m\u001b[39m0\u001b[39;49m\n",
      "\u001b[1;31mZeroDivisionError\u001b[0m: division by zero"
     ]
    }
   ],
   "source": [
    "1/0"
   ]
  },
  {
   "cell_type": "code",
   "execution_count": 2,
   "metadata": {},
   "outputs": [
    {
     "ename": "NameError",
     "evalue": "name 'a' is not defined",
     "output_type": "error",
     "traceback": [
      "\u001b[1;31m---------------------------------------------------------------------------\u001b[0m",
      "\u001b[1;31mNameError\u001b[0m                                 Traceback (most recent call last)",
      "\u001b[1;32mc:\\Users\\fcolin\\Documents\\Untitled Folder 1\\Module3- Python Programming Fundamentals\\Exception Handling.ipynb Celda 3\u001b[0m in \u001b[0;36m<cell line: 1>\u001b[1;34m()\u001b[0m\n\u001b[1;32m----> <a href='vscode-notebook-cell:/c%3A/Users/fcolin/Documents/Untitled%20Folder%201/Module3-%20Python%20Programming%20Fundamentals/Exception%20Handling.ipynb#W2sZmlsZQ%3D%3D?line=0'>1</a>\u001b[0m y \u001b[39m=\u001b[39m a \u001b[39m+\u001b[39m \u001b[39m5\u001b[39m\n",
      "\u001b[1;31mNameError\u001b[0m: name 'a' is not defined"
     ]
    }
   ],
   "source": [
    "y = a + 5"
   ]
  },
  {
   "cell_type": "code",
   "execution_count": 3,
   "metadata": {},
   "outputs": [
    {
     "ename": "IndexError",
     "evalue": "list index out of range",
     "output_type": "error",
     "traceback": [
      "\u001b[1;31m---------------------------------------------------------------------------\u001b[0m",
      "\u001b[1;31mIndexError\u001b[0m                                Traceback (most recent call last)",
      "\u001b[1;32mc:\\Users\\fcolin\\Documents\\Untitled Folder 1\\Module3- Python Programming Fundamentals\\Exception Handling.ipynb Celda 4\u001b[0m in \u001b[0;36m<cell line: 2>\u001b[1;34m()\u001b[0m\n\u001b[0;32m      <a href='vscode-notebook-cell:/c%3A/Users/fcolin/Documents/Untitled%20Folder%201/Module3-%20Python%20Programming%20Fundamentals/Exception%20Handling.ipynb#W3sZmlsZQ%3D%3D?line=0'>1</a>\u001b[0m a \u001b[39m=\u001b[39m [\u001b[39m1\u001b[39m, \u001b[39m2\u001b[39m, \u001b[39m3\u001b[39m]\n\u001b[1;32m----> <a href='vscode-notebook-cell:/c%3A/Users/fcolin/Documents/Untitled%20Folder%201/Module3-%20Python%20Programming%20Fundamentals/Exception%20Handling.ipynb#W3sZmlsZQ%3D%3D?line=1'>2</a>\u001b[0m a[\u001b[39m10\u001b[39;49m]\n",
      "\u001b[1;31mIndexError\u001b[0m: list index out of range"
     ]
    }
   ],
   "source": [
    "a = [1, 2, 3]\n",
    "a[10]"
   ]
  },
  {
   "cell_type": "code",
   "execution_count": null,
   "metadata": {},
   "outputs": [],
   "source": [
    "# potential code before try catch\n",
    "\n",
    "try:\n",
    "    # code to try to execute\n",
    "except:\n",
    "    # code to execute if there is an exception\n",
    "    \n",
    "# code that will still execute if there is an exception"
   ]
  },
  {
   "cell_type": "markdown",
   "metadata": {},
   "source": [
    "A try except will allow you to execute code that might raise an exception and in the case of any exception or a specific one we can handle or catch the exception and execute specific code. This will allow us to continue the execution of our program even if there is an exception.\n",
    "\n",
    "Python tries to execute the code in the try block. In this case if there is any exception raised by the code in the try block, it will be caught and the code block in the except block will be executed. After that, the code that comes after the try except will be executed."
   ]
  },
  {
   "cell_type": "code",
   "execution_count": 4,
   "metadata": {},
   "outputs": [
    {
     "name": "stdout",
     "output_type": "stream",
     "text": [
      "There was an error\n"
     ]
    }
   ],
   "source": [
    "a = 1\n",
    "\n",
    "try:\n",
    "    b = int(input(\"Please enter a number to divide a\"))\n",
    "    a = a/b\n",
    "    print(\"Success a=\",a)\n",
    "except:\n",
    "    print(\"There was an error\")"
   ]
  },
  {
   "cell_type": "code",
   "execution_count": null,
   "metadata": {},
   "outputs": [],
   "source": [
    "# potential code before try catch\n",
    "\n",
    "try:\n",
    "    # code to try to execute\n",
    "except (ZeroDivisionError, NameError):\n",
    "    # code to execute if there is an exception of the given types\n",
    "    \n",
    "# code that will execute if there is no exception or a one that we are handling"
   ]
  },
  {
   "cell_type": "code",
   "execution_count": null,
   "metadata": {},
   "outputs": [],
   "source": [
    "# potential code before try catch\n",
    "\n",
    "try:\n",
    "    # code to try to execute\n",
    "except ZeroDivisionError:\n",
    "    # code to execute if there is a ZeroDivisionError\n",
    "except NameError:\n",
    "    # code to execute if there is a NameError\n",
    "    \n",
    "# code that will execute if there is no exception or a one that we are handling"
   ]
  },
  {
   "cell_type": "markdown",
   "metadata": {},
   "source": [
    "You can also have an empty except at the end to catch an unexpected exception:"
   ]
  },
  {
   "cell_type": "code",
   "execution_count": null,
   "metadata": {},
   "outputs": [],
   "source": [
    "# potential code before try catch\n",
    "\n",
    "try:\n",
    "    # code to try to execute\n",
    "except ZeroDivisionError:\n",
    "    # code to execute if there is a ZeroDivisionError\n",
    "except NameError:\n",
    "    # code to execute if there is a NameError\n",
    "except:\n",
    "    # code to execute if ther is any exception\n",
    "    \n",
    "# code that will execute if there is no exception or a one that we are handling"
   ]
  },
  {
   "cell_type": "code",
   "execution_count": 7,
   "metadata": {},
   "outputs": [
    {
     "name": "stdout",
     "output_type": "stream",
     "text": [
      "You did not provide a number\n"
     ]
    }
   ],
   "source": [
    "a = 1\n",
    "\n",
    "try:\n",
    "    b = int(input(\"Please enter a number to divide a\"))\n",
    "    a = a/b\n",
    "    print(\"Success a=\",a)\n",
    "except ZeroDivisionError:\n",
    "    print(\"The number you provided cant divide 1 because it is 0\")\n",
    "except ValueError:\n",
    "    print(\"You did not provide a number\")\n",
    "except:\n",
    "    print(\"Something went wrong\")\n",
    "        "
   ]
  },
  {
   "cell_type": "code",
   "execution_count": 9,
   "metadata": {},
   "outputs": [
    {
     "name": "stdout",
     "output_type": "stream",
     "text": [
      "success a= 1.0\n"
     ]
    }
   ],
   "source": [
    "a = 1\n",
    "\n",
    "try:\n",
    "    b = int(input(\"Please enter a number to divide a\"))\n",
    "    a = a/b\n",
    "except ZeroDivisionError:\n",
    "    print(\"The number you provided cant divide 1 because it is 0\")\n",
    "except ValueError:\n",
    "    print(\"You did not provide a number\")\n",
    "except:\n",
    "    print(\"Something went wrong\")\n",
    "else:\n",
    "    print(\"success a=\",a)"
   ]
  },
  {
   "cell_type": "code",
   "execution_count": 11,
   "metadata": {},
   "outputs": [
    {
     "name": "stdout",
     "output_type": "stream",
     "text": [
      "You did not provide a number\n",
      "Processing Complete\n"
     ]
    }
   ],
   "source": [
    "a = 1\n",
    "\n",
    "try:\n",
    "    b = int(input(\"Please enter a number to divide a\"))\n",
    "    a = a/b\n",
    "except ZeroDivisionError:\n",
    "    print(\"The number you provided cant divide 1 because it is 0\")\n",
    "except ValueError:\n",
    "    print(\"You did not provide a number\")\n",
    "except:\n",
    "    print(\"Something went wrong\")\n",
    "else:\n",
    "    print(\"success a=\",a)\n",
    "finally:\n",
    "    print(\"Processing Complete\")"
   ]
  }
 ],
 "metadata": {
  "kernelspec": {
   "display_name": "Python 3.9.12 ('base')",
   "language": "python",
   "name": "python3"
  },
  "language_info": {
   "codemirror_mode": {
    "name": "ipython",
    "version": 3
   },
   "file_extension": ".py",
   "mimetype": "text/x-python",
   "name": "python",
   "nbconvert_exporter": "python",
   "pygments_lexer": "ipython3",
   "version": "3.9.12"
  },
  "orig_nbformat": 4,
  "vscode": {
   "interpreter": {
    "hash": "54d8efc0accedf8a71318180958b2a2c3ace073b5a0267b0b56f49dfe74d51c0"
   }
  }
 },
 "nbformat": 4,
 "nbformat_minor": 2
}
