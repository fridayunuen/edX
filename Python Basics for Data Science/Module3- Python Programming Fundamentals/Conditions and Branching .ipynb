{
 "cells": [
  {
   "cell_type": "markdown",
   "id": "b808fabb",
   "metadata": {},
   "source": [
    "# Conditions and Branching \n",
    "## Comparasion Operators\n",
    "# Branching \n",
    "\n",
    "\n",
    "Allow us to run different statments for a different input"
   ]
  },
  {
   "cell_type": "markdown",
   "id": "6e8ccb4d",
   "metadata": {},
   "source": [
    "The elif statment, short for, else if allow us to check additional conditional if the perciding conditions is false "
   ]
  },
  {
   "cell_type": "code",
   "execution_count": 1,
   "id": "2331f67b",
   "metadata": {},
   "outputs": [
    {
     "name": "stdout",
     "output_type": "stream",
     "text": [
      "go to see Met Loaf\n",
      "Move on\n"
     ]
    }
   ],
   "source": [
    "age = -10\n",
    "if(age > 18):\n",
    "    print(\"You can enter\")\n",
    "elif(age == 18):\n",
    "    print(\"go see Pink Floyd\")\n",
    "else: \n",
    "    print(\"go to see Met Loaf\")\n",
    "print(\"Move on\")    "
   ]
  },
  {
   "cell_type": "markdown",
   "id": "55fe05c6",
   "metadata": {},
   "source": [
    "## Logic Operators\n",
    "not\n",
    "or\n",
    "and\n"
   ]
  },
  {
   "cell_type": "code",
   "execution_count": 4,
   "id": "704e2974",
   "metadata": {},
   "outputs": [
    {
     "name": "stdout",
     "output_type": "stream",
     "text": [
      "The Album was mede in the 70's or 90's\n"
     ]
    }
   ],
   "source": [
    "album_year = 1990\n",
    "if(album_year<1980) or (album_year>1989):\n",
    "    print(\"The Album was mede in the 70's or 90's\")\n",
    "else: \n",
    "    print(\"The album was made in the 1980s\")\n"
   ]
  }
 ],
 "metadata": {
  "kernelspec": {
   "display_name": "Python 3.9.12 ('base')",
   "language": "python",
   "name": "python3"
  },
  "language_info": {
   "codemirror_mode": {
    "name": "ipython",
    "version": 3
   },
   "file_extension": ".py",
   "mimetype": "text/x-python",
   "name": "python",
   "nbconvert_exporter": "python",
   "pygments_lexer": "ipython3",
   "version": "3.9.12"
  },
  "vscode": {
   "interpreter": {
    "hash": "54d8efc0accedf8a71318180958b2a2c3ace073b5a0267b0b56f49dfe74d51c0"
   }
  }
 },
 "nbformat": 4,
 "nbformat_minor": 5
}
