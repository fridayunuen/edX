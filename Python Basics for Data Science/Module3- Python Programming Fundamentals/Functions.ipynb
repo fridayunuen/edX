{
 "cells": [
  {
   "cell_type": "markdown",
   "metadata": {},
   "source": [
    "# FUNCTIONS\n",
    "## Python Built-in function\n",
    "\n",
    "len()\n",
    "sum()\n",
    "sorted() # function\n",
    "sort() # method \n",
    "album_ratings.sort()\n"
   ]
  },
  {
   "cell_type": "code",
   "execution_count": 2,
   "metadata": {},
   "outputs": [
    {
     "data": {
      "text/plain": [
       "2"
      ]
     },
     "execution_count": 2,
     "metadata": {},
     "output_type": "execute_result"
    }
   ],
   "source": [
    "def add1(a):\n",
    "    ''''add1 to a'''\n",
    "    b= a+1\n",
    "    return b\n",
    "\n",
    "add1(1)    "
   ]
  },
  {
   "cell_type": "code",
   "execution_count": 3,
   "metadata": {},
   "outputs": [
    {
     "data": {
      "text/plain": [
       "'Michael JacksonMichael Jackson'"
      ]
     },
     "execution_count": 3,
     "metadata": {},
     "output_type": "execute_result"
    }
   ],
   "source": [
    "def Mult(a,b):\n",
    "    c=a*b\n",
    "    return c\n",
    "Mult(2,\"Michael Jackson\")    "
   ]
  },
  {
   "cell_type": "code",
   "execution_count": 5,
   "metadata": {},
   "outputs": [
    {
     "name": "stdout",
     "output_type": "stream",
     "text": [
      "None\n"
     ]
    }
   ],
   "source": [
    "def NoWork():\n",
    "    pass\n",
    "    return None\n",
    "print(NoWork())"
   ]
  },
  {
   "cell_type": "code",
   "execution_count": 6,
   "metadata": {},
   "outputs": [
    {
     "name": "stdout",
     "output_type": "stream",
     "text": [
      "Album 0 Rating is  4.5\n",
      "Album 1 Rating is  4.0\n",
      "Album 2 Rating is  5.0\n",
      "Album 3 Rating is  2.5\n",
      "Album 4 Rating is  1.0\n"
     ]
    }
   ],
   "source": [
    "def printStuff(Stuff):\n",
    "    for i, s in enumerate(Stuff):\n",
    "        print(\"Album\", i, \"Rating is \", s)\n",
    "\n",
    "album_rating = [4.5, 4.0, 5.0, 2.5, 1.0]\n",
    "printStuff(album_rating)        "
   ]
  },
  {
   "cell_type": "markdown",
   "metadata": {},
   "source": [
    "variadic parameters allow us input a variable number of elements"
   ]
  },
  {
   "cell_type": "code",
   "execution_count": 7,
   "metadata": {},
   "outputs": [
    {
     "name": "stdout",
     "output_type": "stream",
     "text": [
      "Michael Jackson\n",
      "John Lennon\n",
      "Elvis Presley\n"
     ]
    }
   ],
   "source": [
    "def ArtistNames(*names):\n",
    "    for name in names:\n",
    "        print(name)\n",
    "\n",
    "ArtistNames(\"Michael Jackson\", \"John Lennon\", \"Elvis Presley\")\n"
   ]
  },
  {
   "cell_type": "markdown",
   "metadata": {},
   "source": [
    "## Scope\n",
    "where that variable is accesible "
   ]
  },
  {
   "cell_type": "code",
   "execution_count": 9,
   "metadata": {},
   "outputs": [
    {
     "data": {
      "text/plain": [
       "1982"
      ]
     },
     "execution_count": 9,
     "metadata": {},
     "output_type": "execute_result"
    }
   ],
   "source": [
    "# Scope: Local Variables\n",
    "def Thriller():\n",
    "    Date = 1982\n",
    "    return Date\n",
    "\n",
    "Date = 2017\n",
    "\n",
    "Thriller()    "
   ]
  },
  {
   "cell_type": "code",
   "execution_count": 10,
   "metadata": {},
   "outputs": [
    {
     "name": "stdout",
     "output_type": "stream",
     "text": [
      "a1\n",
      "b1\n",
      "c1\n"
     ]
    }
   ],
   "source": [
    "def Print(A):\n",
    "\n",
    "    for a in A:\n",
    "\n",
    "       print(a+'1')\n",
    "\n",
    "Print(['a','b','c'])"
   ]
  }
 ],
 "metadata": {
  "kernelspec": {
   "display_name": "Python 3.9.12 ('base')",
   "language": "python",
   "name": "python3"
  },
  "language_info": {
   "codemirror_mode": {
    "name": "ipython",
    "version": 3
   },
   "file_extension": ".py",
   "mimetype": "text/x-python",
   "name": "python",
   "nbconvert_exporter": "python",
   "pygments_lexer": "ipython3",
   "version": "3.9.12"
  },
  "orig_nbformat": 4,
  "vscode": {
   "interpreter": {
    "hash": "54d8efc0accedf8a71318180958b2a2c3ace073b5a0267b0b56f49dfe74d51c0"
   }
  }
 },
 "nbformat": 4,
 "nbformat_minor": 2
}
