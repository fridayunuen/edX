{
 "cells": [
  {
   "cell_type": "markdown",
   "id": "026b0880",
   "metadata": {},
   "source": [
    "# Module Introduction and Learning Objectives"
   ]
  },
  {
   "cell_type": "markdown",
   "id": "51e83709",
   "metadata": {},
   "source": [
    "This module begins a journey into Python data structures by explaining the use of lists and tuples and how they are able to store collections of data in a single variable.\n",
    "\n",
    "Next, learn about dictionaries and how they function by storing data in pairs of keys and values, and end with Python sets to learn how this type of collection can appear in any order and will only contain unique elements."
   ]
  },
  {
   "cell_type": "code",
   "execution_count": null,
   "id": "1596f99f",
   "metadata": {},
   "outputs": [],
   "source": []
  }
 ],
 "metadata": {
  "kernelspec": {
   "display_name": "Python 3 (ipykernel)",
   "language": "python",
   "name": "python3"
  },
  "language_info": {
   "codemirror_mode": {
    "name": "ipython",
    "version": 3
   },
   "file_extension": ".py",
   "mimetype": "text/x-python",
   "name": "python",
   "nbconvert_exporter": "python",
   "pygments_lexer": "ipython3",
   "version": "3.9.12"
  }
 },
 "nbformat": 4,
 "nbformat_minor": 5
}
