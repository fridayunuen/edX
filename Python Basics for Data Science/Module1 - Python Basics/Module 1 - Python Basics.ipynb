{
 "cells": [
  {
   "cell_type": "markdown",
   "id": "f8cf1652",
   "metadata": {},
   "source": [
    "# TYPES"
   ]
  },
  {
   "cell_type": "code",
   "execution_count": 1,
   "id": "ac3ec3d0",
   "metadata": {},
   "outputs": [
    {
     "data": {
      "text/plain": [
       "int"
      ]
     },
     "execution_count": 1,
     "metadata": {},
     "output_type": "execute_result"
    }
   ],
   "source": [
    "type(11)"
   ]
  },
  {
   "cell_type": "code",
   "execution_count": 2,
   "id": "f2edb5d2",
   "metadata": {},
   "outputs": [
    {
     "data": {
      "text/plain": [
       "float"
      ]
     },
     "execution_count": 2,
     "metadata": {},
     "output_type": "execute_result"
    }
   ],
   "source": [
    "type(21.213)"
   ]
  },
  {
   "cell_type": "code",
   "execution_count": 3,
   "id": "83e8ec15",
   "metadata": {},
   "outputs": [
    {
     "data": {
      "text/plain": [
       "str"
      ]
     },
     "execution_count": 3,
     "metadata": {},
     "output_type": "execute_result"
    }
   ],
   "source": [
    "type(\"Hello Python 101\")"
   ]
  },
  {
   "cell_type": "markdown",
   "id": "95b159b7",
   "metadata": {},
   "source": [
    "Convert or cast the integer 2"
   ]
  },
  {
   "cell_type": "code",
   "execution_count": 4,
   "id": "3c538e4b",
   "metadata": {},
   "outputs": [
    {
     "data": {
      "text/plain": [
       "2.0"
      ]
     },
     "execution_count": 4,
     "metadata": {},
     "output_type": "execute_result"
    }
   ],
   "source": [
    "float(2)"
   ]
  },
  {
   "cell_type": "markdown",
   "id": "513f39da",
   "metadata": {},
   "source": [
    "if you cast the float 1.1 to 1, you will lose some information "
   ]
  },
  {
   "cell_type": "code",
   "execution_count": 5,
   "id": "d143fc1e",
   "metadata": {},
   "outputs": [
    {
     "data": {
      "text/plain": [
       "1"
      ]
     },
     "execution_count": 5,
     "metadata": {},
     "output_type": "execute_result"
    }
   ],
   "source": [
    "int(1.1)"
   ]
  },
  {
   "cell_type": "markdown",
   "id": "0247f24e",
   "metadata": {},
   "source": [
    "If a string contains an integer, value, you can convert it to int"
   ]
  },
  {
   "cell_type": "code",
   "execution_count": 6,
   "id": "2c6c7307",
   "metadata": {},
   "outputs": [
    {
     "data": {
      "text/plain": [
       "1"
      ]
     },
     "execution_count": 6,
     "metadata": {},
     "output_type": "execute_result"
    }
   ],
   "source": [
    "int('1')"
   ]
  },
  {
   "cell_type": "code",
   "execution_count": 8,
   "id": "d6579f79",
   "metadata": {},
   "outputs": [
    {
     "data": {
      "text/plain": [
       "'1'"
      ]
     },
     "execution_count": 8,
     "metadata": {},
     "output_type": "execute_result"
    }
   ],
   "source": [
    "str(1)"
   ]
  },
  {
   "cell_type": "markdown",
   "id": "51ba247c",
   "metadata": {},
   "source": [
    "Boolean"
   ]
  },
  {
   "cell_type": "code",
   "execution_count": 11,
   "id": "2de8bef9",
   "metadata": {},
   "outputs": [
    {
     "data": {
      "text/plain": [
       "bool"
      ]
     },
     "execution_count": 11,
     "metadata": {},
     "output_type": "execute_result"
    }
   ],
   "source": [
    "type(False)"
   ]
  },
  {
   "cell_type": "code",
   "execution_count": 13,
   "id": "0e08eebb",
   "metadata": {},
   "outputs": [
    {
     "name": "stdout",
     "output_type": "stream",
     "text": [
      "1\n",
      "0\n"
     ]
    }
   ],
   "source": [
    "print(int(True))\n",
    "print(int(False))"
   ]
  },
  {
   "cell_type": "code",
   "execution_count": 15,
   "id": "b9dc80d4",
   "metadata": {},
   "outputs": [
    {
     "data": {
      "text/plain": [
       "True"
      ]
     },
     "execution_count": 15,
     "metadata": {},
     "output_type": "execute_result"
    }
   ],
   "source": [
    "bool(1)"
   ]
  },
  {
   "cell_type": "code",
   "execution_count": 31,
   "id": "75eed41a",
   "metadata": {},
   "outputs": [
    {
     "data": {
      "text/plain": [
       "sys.float_info(max=1.7976931348623157e+308, max_exp=1024, max_10_exp=308, min=2.2250738585072014e-308, min_exp=-1021, min_10_exp=-307, dig=15, mant_dig=53, epsilon=2.220446049250313e-16, radix=2, rounds=1)"
      ]
     },
     "execution_count": 31,
     "metadata": {},
     "output_type": "execute_result"
    }
   ],
   "source": [
    "# System settings about float type\n",
    "\n",
    "sys.float_info"
   ]
  },
  {
   "cell_type": "markdown",
   "id": "a4a64276",
   "metadata": {},
   "source": [
    "Note that strings can be represented with single quotes ('1.2') or double quotes (\"1.2\"), but you can't mix both (e.g., \"1.2')."
   ]
  },
  {
   "cell_type": "markdown",
   "id": "bafcfaa4",
   "metadata": {},
   "source": [
    "# Expressions and Variables"
   ]
  },
  {
   "cell_type": "markdown",
   "id": "fc9a8670",
   "metadata": {},
   "source": [
    "Expression are operations the python performs"
   ]
  },
  {
   "cell_type": "code",
   "execution_count": 16,
   "id": "356247da",
   "metadata": {},
   "outputs": [
    {
     "data": {
      "text/plain": [
       "-9"
      ]
     },
     "execution_count": 16,
     "metadata": {},
     "output_type": "execute_result"
    }
   ],
   "source": [
    "51-60"
   ]
  },
  {
   "cell_type": "code",
   "execution_count": 17,
   "id": "4498a6b9",
   "metadata": {},
   "outputs": [
    {
     "data": {
      "text/plain": [
       "4.166666666666667"
      ]
     },
     "execution_count": 17,
     "metadata": {},
     "output_type": "execute_result"
    }
   ],
   "source": [
    "25/6"
   ]
  },
  {
   "cell_type": "code",
   "execution_count": 18,
   "id": "3c3a9e1f",
   "metadata": {},
   "outputs": [
    {
     "data": {
      "text/plain": [
       "4"
      ]
     },
     "execution_count": 18,
     "metadata": {},
     "output_type": "execute_result"
    }
   ],
   "source": [
    "25//6"
   ]
  },
  {
   "cell_type": "code",
   "execution_count": 20,
   "id": "e7235cd5",
   "metadata": {},
   "outputs": [
    {
     "name": "stdout",
     "output_type": "stream",
     "text": [
      "150\n",
      "150\n"
     ]
    }
   ],
   "source": [
    "print(2*60+30)\n",
    "print(30+2*60)"
   ]
  },
  {
   "cell_type": "code",
   "execution_count": 21,
   "id": "c0857c96",
   "metadata": {},
   "outputs": [
    {
     "data": {
      "text/plain": [
       "1920"
      ]
     },
     "execution_count": 21,
     "metadata": {},
     "output_type": "execute_result"
    }
   ],
   "source": [
    "(30+2)*60"
   ]
  },
  {
   "cell_type": "code",
   "execution_count": 22,
   "id": "cc66bcc9",
   "metadata": {},
   "outputs": [],
   "source": [
    "my_variable = 1"
   ]
  },
  {
   "cell_type": "code",
   "execution_count": 29,
   "id": "1101345d",
   "metadata": {},
   "outputs": [
    {
     "data": {
      "text/plain": [
       "1.3666666666666667"
      ]
     },
     "execution_count": 29,
     "metadata": {},
     "output_type": "execute_result"
    }
   ],
   "source": [
    "total_min = 40+42\n",
    "total_hr = total_min/60\n",
    "total_hr"
   ]
  },
  {
   "cell_type": "markdown",
   "id": "ec6a4fd4",
   "metadata": {},
   "source": [
    "What version of Python are we using?"
   ]
  },
  {
   "cell_type": "code",
   "execution_count": 30,
   "id": "8b1883f6",
   "metadata": {},
   "outputs": [
    {
     "name": "stdout",
     "output_type": "stream",
     "text": [
      "3.9.12 (main, Apr  4 2022, 05:22:27) [MSC v.1916 64 bit (AMD64)]\n"
     ]
    }
   ],
   "source": [
    "import sys\n",
    "print(sys.version)"
   ]
  },
  {
   "cell_type": "markdown",
   "id": "3e11a39c",
   "metadata": {},
   "source": [
    "# Strings"
   ]
  },
  {
   "cell_type": "code",
   "execution_count": 32,
   "id": "9840c9d8",
   "metadata": {},
   "outputs": [],
   "source": [
    "Name = \"Michel Jackson\""
   ]
  },
  {
   "cell_type": "code",
   "execution_count": 34,
   "id": "b0fef586",
   "metadata": {},
   "outputs": [
    {
     "data": {
      "text/plain": [
       "'n'"
      ]
     },
     "execution_count": 34,
     "metadata": {},
     "output_type": "execute_result"
    }
   ],
   "source": [
    "Name[-1]"
   ]
  },
  {
   "cell_type": "code",
   "execution_count": 36,
   "id": "8cd4822c",
   "metadata": {},
   "outputs": [
    {
     "data": {
      "text/plain": [
       "'Mich'"
      ]
     },
     "execution_count": 36,
     "metadata": {},
     "output_type": "execute_result"
    }
   ],
   "source": [
    "Name[0:4]"
   ]
  },
  {
   "cell_type": "markdown",
   "id": "4076c378",
   "metadata": {},
   "source": [
    "The two indicates we'd select every second variable"
   ]
  },
  {
   "cell_type": "code",
   "execution_count": 37,
   "id": "5aa47d18",
   "metadata": {},
   "outputs": [
    {
     "data": {
      "text/plain": [
       "'Mce ako'"
      ]
     },
     "execution_count": 37,
     "metadata": {},
     "output_type": "execute_result"
    }
   ],
   "source": [
    "Name[::2] "
   ]
  },
  {
   "cell_type": "markdown",
   "id": "825ee3ab",
   "metadata": {},
   "source": [
    "In this case, we return every second value up to index four"
   ]
  },
  {
   "cell_type": "code",
   "execution_count": 39,
   "id": "29fd13e9",
   "metadata": {},
   "outputs": [
    {
     "data": {
      "text/plain": [
       "'Mce'"
      ]
     },
     "execution_count": 39,
     "metadata": {},
     "output_type": "execute_result"
    }
   ],
   "source": [
    "Name[0:5:2]"
   ]
  },
  {
   "cell_type": "code",
   "execution_count": 41,
   "id": "1160c382",
   "metadata": {},
   "outputs": [
    {
     "data": {
      "text/plain": [
       "14"
      ]
     },
     "execution_count": 41,
     "metadata": {},
     "output_type": "execute_result"
    }
   ],
   "source": [
    "len(Name)"
   ]
  },
  {
   "cell_type": "code",
   "execution_count": 42,
   "id": "fbbb60a2",
   "metadata": {},
   "outputs": [
    {
     "data": {
      "text/plain": [
       "'Michel Jacksonis the best'"
      ]
     },
     "execution_count": 42,
     "metadata": {},
     "output_type": "execute_result"
    }
   ],
   "source": [
    "Name + \"is the best\""
   ]
  },
  {
   "cell_type": "code",
   "execution_count": 44,
   "id": "019816c4",
   "metadata": {},
   "outputs": [
    {
     "data": {
      "text/plain": [
       "'Michel JacksonMichel JacksonMichel Jackson'"
      ]
     },
     "execution_count": 44,
     "metadata": {},
     "output_type": "execute_result"
    }
   ],
   "source": [
    "3 * Name"
   ]
  },
  {
   "cell_type": "markdown",
   "id": "bb6a7ad3",
   "metadata": {},
   "source": [
    "* \\ are meant to proceed escape sequences \n",
    "* escape sequences are strings that are difficult to input\n",
    "\n",
    "* \\n   new line \n",
    "* \\t   tap\n"
   ]
  },
  {
   "cell_type": "code",
   "execution_count": 45,
   "id": "3218dc01",
   "metadata": {},
   "outputs": [
    {
     "name": "stdout",
     "output_type": "stream",
     "text": [
      "Michel Jackson \n",
      " is the best\n"
     ]
    }
   ],
   "source": [
    "print(\"Michel Jackson \\n is the best\")"
   ]
  },
  {
   "cell_type": "code",
   "execution_count": 46,
   "id": "7282a52b",
   "metadata": {},
   "outputs": [
    {
     "name": "stdout",
     "output_type": "stream",
     "text": [
      "Michel Jackson \\ is the best\n"
     ]
    }
   ],
   "source": [
    "print(\"Michel Jackson \\\\ is the best\")"
   ]
  },
  {
   "cell_type": "code",
   "execution_count": 50,
   "id": "6080ded2",
   "metadata": {},
   "outputs": [
    {
     "name": "stdout",
     "output_type": "stream",
     "text": [
      "Michel Jackson\\is the best\n"
     ]
    }
   ],
   "source": [
    "print(r\"Michel Jackson \\ is the best\")"
   ]
  },
  {
   "cell_type": "code",
   "execution_count": 51,
   "id": "91501057",
   "metadata": {},
   "outputs": [
    {
     "data": {
      "text/plain": [
       "'THRILLER IS THE SIXTHSTUDION ALBUM'"
      ]
     },
     "execution_count": 51,
     "metadata": {},
     "output_type": "execute_result"
    }
   ],
   "source": [
    "A = \"Thriller is the sixthstudion album\"\n",
    "A.upper()"
   ]
  },
  {
   "cell_type": "code",
   "execution_count": 54,
   "id": "b00df854",
   "metadata": {},
   "outputs": [
    {
     "data": {
      "text/plain": [
       "'Janet Jackson'"
      ]
     },
     "execution_count": 54,
     "metadata": {},
     "output_type": "execute_result"
    }
   ],
   "source": [
    "Name.replace(\"Michel\", \"Janet\")"
   ]
  },
  {
   "cell_type": "code",
   "execution_count": 57,
   "id": "b87599c6",
   "metadata": {
    "scrolled": true
   },
   "outputs": [
    {
     "data": {
      "text/plain": [
       "4"
      ]
     },
     "execution_count": 57,
     "metadata": {},
     "output_type": "execute_result"
    }
   ],
   "source": [
    "Name.find('el')"
   ]
  },
  {
   "cell_type": "code",
   "execution_count": 58,
   "id": "6798d0a1",
   "metadata": {},
   "outputs": [
    {
     "data": {
      "text/plain": [
       "7"
      ]
     },
     "execution_count": 58,
     "metadata": {},
     "output_type": "execute_result"
    }
   ],
   "source": [
    "Name.find(\"Jack\")"
   ]
  },
  {
   "cell_type": "code",
   "execution_count": 60,
   "id": "9ddd4f97",
   "metadata": {},
   "outputs": [
    {
     "data": {
      "text/plain": [
       "-1"
      ]
     },
     "execution_count": 60,
     "metadata": {},
     "output_type": "execute_result"
    }
   ],
   "source": [
    "Name.find(\"Julion\") # -1 no esta"
   ]
  },
  {
   "cell_type": "code",
   "execution_count": 62,
   "id": "1a87a504",
   "metadata": {},
   "outputs": [
    {
     "data": {
      "text/plain": [
       "'Mce ako'"
      ]
     },
     "execution_count": 62,
     "metadata": {},
     "output_type": "execute_result"
    }
   ],
   "source": [
    "# Get every second element. The elments on index 1, 3, 5 ...\n",
    "\n",
    "Name[::2]"
   ]
  },
  {
   "cell_type": "code",
   "execution_count": 64,
   "id": "16719b88",
   "metadata": {},
   "outputs": [
    {
     "data": {
      "text/plain": [
       "'Mce'"
      ]
     },
     "execution_count": 64,
     "metadata": {},
     "output_type": "execute_result"
    }
   ],
   "source": [
    "# Get every second element in the range from index 0 to index 4\n",
    "\n",
    "Name[0:5:2]"
   ]
  },
  {
   "cell_type": "code",
   "execution_count": 65,
   "id": "91d349db",
   "metadata": {},
   "outputs": [
    {
     "name": "stdout",
     "output_type": "stream",
     "text": [
      " Michael Jackson \\ is the best\n"
     ]
    }
   ],
   "source": [
    "# r will tell python that string will be display as raw string\n",
    "\n",
    "print(r\" Michael Jackson \\ is the best\" )"
   ]
  },
  {
   "cell_type": "code",
   "execution_count": 66,
   "id": "76b674bf",
   "metadata": {},
   "outputs": [
    {
     "data": {
      "text/plain": [
       "6"
      ]
     },
     "execution_count": 66,
     "metadata": {},
     "output_type": "execute_result"
    }
   ],
   "source": [
    "\"hello Mike\".find(\"Mike\")"
   ]
  },
  {
   "cell_type": "code",
   "execution_count": 68,
   "id": "be0edb6e",
   "metadata": {},
   "outputs": [
    {
     "name": "stdout",
     "output_type": "stream",
     "text": [
      "Li\n"
     ]
    }
   ],
   "source": [
    "name = 'Lizz'\n",
    "print(name[0:2]) "
   ]
  }
 ],
 "metadata": {
  "kernelspec": {
   "display_name": "Python 3.9.12 ('base')",
   "language": "python",
   "name": "python3"
  },
  "language_info": {
   "codemirror_mode": {
    "name": "ipython",
    "version": 3
   },
   "file_extension": ".py",
   "mimetype": "text/x-python",
   "name": "python",
   "nbconvert_exporter": "python",
   "pygments_lexer": "ipython3",
   "version": "3.9.12"
  },
  "vscode": {
   "interpreter": {
    "hash": "54d8efc0accedf8a71318180958b2a2c3ace073b5a0267b0b56f49dfe74d51c0"
   }
  }
 },
 "nbformat": 4,
 "nbformat_minor": 5
}
