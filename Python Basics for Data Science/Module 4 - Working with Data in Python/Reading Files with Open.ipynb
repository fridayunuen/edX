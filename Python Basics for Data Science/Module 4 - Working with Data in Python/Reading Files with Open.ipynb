{
 "cells": [
  {
   "cell_type": "markdown",
   "metadata": {},
   "source": [
    "# Reading Files with Open\n",
    "open(\"file path\", \"mode\")\n",
    "\n",
    "r : reading\n",
    "\n",
    "w: writing\n",
    "\n",
    "a: appending\n",
    "\n",
    "\n",
    "use with is better practice because automatilclly close the files \n",
    "\n",
    "with open(\"file path\", \"mode\") as File1: \n",
    " file_stuff= File1.read()  # stores the values as a string \n",
    " print(file_stuff)\n",
    "print(File1.closed) # check is closed \n",
    "print(file_stuff) \n",
    "\n",
    "\n",
    "with open(\"Example.txt\", \"r\") as File1:\n",
    "    for line in File1:\n",
    "        print(line)\n",
    "\n",
    "\n",
    ".readlines(16) # first 16 characters        "
   ]
  },
  {
   "cell_type": "code",
   "execution_count": null,
   "metadata": {},
   "outputs": [],
   "source": [
    "# Print the mode of file, either 'r' or 'w'\n",
    "file1.mode\n",
    "\n",
    "# Read the file\n",
    "FileContent = file1.read()\n",
    "FileContent\n",
    "\n",
    "# Print the file with '\\n' as a new line\n",
    "print(FileContent)\n",
    "\n",
    "# Type of file content\n",
    "type(FileContent)\n",
    "\n",
    "# Close file after finish. This frees up resources and ensures consistency across different python versions.\n",
    "file1.close()"
   ]
  },
  {
   "cell_type": "code",
   "execution_count": null,
   "metadata": {},
   "outputs": [],
   "source": [
    "# Open file using with\n",
    "\n",
    "with open(example1, \"r\") as file1:\n",
    "    FileContent = file1.read()\n",
    "    print(FileContent)"
   ]
  }
 ],
 "metadata": {
  "kernelspec": {
   "display_name": "Python 3.9.12 ('base')",
   "language": "python",
   "name": "python3"
  },
  "language_info": {
   "name": "python",
   "version": "3.9.12"
  },
  "orig_nbformat": 4,
  "vscode": {
   "interpreter": {
    "hash": "54d8efc0accedf8a71318180958b2a2c3ace073b5a0267b0b56f49dfe74d51c0"
   }
  }
 },
 "nbformat": 4,
 "nbformat_minor": 2
}
