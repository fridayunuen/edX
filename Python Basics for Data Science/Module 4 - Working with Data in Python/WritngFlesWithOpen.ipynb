{
 "cells": [
  {
   "cell_type": "markdown",
   "metadata": {},
   "source": [
    "# Writing Files with Open\n",
    "## File Objet \n",
    "We will use Python open function to get a file objet to create a text file\n",
    "\n",
    "(line).write(\"This is a line\") # put into the file \n",
    "\n",
    "with open(\"path\", \"w\") creates a file example in your directory \n"
   ]
  },
  {
   "cell_type": "code",
   "execution_count": null,
   "metadata": {},
   "outputs": [],
   "source": [
    "with open(\"Example1.txt\", \"r\") as readfile:\n",
    "    with open(\"Example2.txt\", \"w\") as writefile:\n",
    "        for line in readfile:\n",
    "            writefile.write(line) # overwrite"
   ]
  },
  {
   "cell_type": "markdown",
   "metadata": {},
   "source": [
    "r+ : Reading and writing. Cannot truncate the file.\n",
    "\n",
    "w+ : Writing and reading. Truncates the file.\n",
    "\n",
    "a+ : Appending and Reading. Creates a new file, if none exists"
   ]
  },
  {
   "cell_type": "markdown",
   "metadata": {},
   "source": [
    "Most of the file methods we've looked at work in a certain location in the file. <code>.write() </code> writes at a certain location in the file. <code>.read()</code> reads at a certain location in the file and so on. You can think of this as moving your pointer around in the notepad to make changes at specific location.\n",
    "\n",
    "Opening the file in **w** is akin to opening the .txt file, moving your cursor to the beginning of the text file, writing new text and deleting everything that follows.\n",
    "Whereas opening the file in **a** is similiar to opening the .txt file, moving your cursor to the very end and then adding the new pieces of text. <br>\n",
    "It is often very useful to know where the 'cursor' is in a file and be able to control it. The following methods allow us to do precisely this -\n",
    "\n",
    "*   <code>.tell()</code> - returns the current position in bytes\n",
    "*   <code>.seek(offset,from)</code> - changes the position by 'offset' bytes with respect to 'from'. From can take the value of 0,1,2 corresponding to beginning, relative to current position and end\n"
   ]
  },
  {
   "cell_type": "code",
   "execution_count": 2,
   "metadata": {},
   "outputs": [
    {
     "name": "stdout",
     "output_type": "stream",
     "text": [
      "Initial Location: 0\n",
      "Read nothing\n",
      "\n",
      "New Location : 0\n",
      "Read nothing\n",
      "Location after read: 0\n"
     ]
    }
   ],
   "source": [
    "with open('Example2.txt', 'a+') as testwritefile:\n",
    "    print(\"Initial Location: {}\".format(testwritefile.tell()))\n",
    "    \n",
    "    data = testwritefile.read()\n",
    "    if (not data):  #empty strings return false in python\n",
    "            print('Read nothing') \n",
    "    else: \n",
    "            print(testwritefile.read())\n",
    "            \n",
    "    testwritefile.seek(0,0) # move 0 bytes from beginning.\n",
    "    \n",
    "    print(\"\\nNew Location : {}\".format(testwritefile.tell()))\n",
    "    data = testwritefile.read()\n",
    "    if (not data): \n",
    "            print('Read nothing') \n",
    "    else: \n",
    "            print(data)\n",
    "    \n",
    "    print(\"Location after read: {}\".format(testwritefile.tell()) )"
   ]
  },
  {
   "cell_type": "markdown",
   "metadata": {},
   "source": [
    "Finally, a note on the difference between **w+** and **r+**. Both of these modes allow access to read and write methods, however, opening a file in **w+** overwrites it and deletes all pre-existing data. <br>\n",
    "To work with a file on existing data, use **r+** and **a+**. While using **r+**, it can be useful to add a <code>.truncate()</code> method at the end of your data. This will reduce the file to your data and delete everything that follows. <br>\n",
    "In the following code block, Run the code as it is first and then run it with the <code>.truncate()</code>."
   ]
  },
  {
   "cell_type": "code",
   "execution_count": 95,
   "metadata": {},
   "outputs": [
    {
     "name": "stdout",
     "output_type": "stream",
     "text": [
      "Line 1\n",
      "Line 2\n",
      "Line 3\n",
      "finished\n",
      "\n"
     ]
    }
   ],
   "source": [
    "with open('Example2.txt', 'r+') as testwritefile:\n",
    "    data = testwritefile.readlines()\n",
    "    testwritefile.seek(0,0) #write at beginning of file\n",
    "   \n",
    "    testwritefile.write(\"Line 1\" + \"\\n\")\n",
    "    testwritefile.write(\"Line 2\" + \"\\n\")\n",
    "    testwritefile.write(\"Line 3\" + \"\\n\")\n",
    "    testwritefile.write(\"finished\\n\")\n",
    "    #Uncomment the line below\n",
    "    #testwritefile.truncate()\n",
    "    testwritefile.seek(0,0)\n",
    "    print(testwritefile.read())"
   ]
  },
  {
   "cell_type": "code",
   "execution_count": 3,
   "metadata": {},
   "outputs": [],
   "source": [
    "# Copy file to another\n",
    "with open('Example2.txt','r') as readfile:\n",
    "    with open('Example3.txt','w') as writefile:\n",
    "          for line in readfile:\n",
    "                writefile.write(line)\n",
    "\n",
    "# Verify if the copy is successfully executed\n",
    "with open('Example3.txt','r') as testwritefile:\n",
    "    print(testwritefile.read())"
   ]
  },
  {
   "cell_type": "markdown",
   "metadata": {},
   "source": [
    "<h2> Exercise </h2>\n",
    "\n",
    "Your local university's Raptors fan club maintains a register of its active members on a .txt document. Every month they update the file by removing the members who are not active. You have been tasked with automating this with your Python skills. <br>\n",
    "Given the file `currentMem`, Remove each member with a 'no' in their Active column. Keep track of each of the removed members and append them to the `exMem` file. Make sure that the format of the original files in preserved.   (*Hint: Do this by reading/writing whole lines and ensuring the header remains* ) <br>\n",
    "Run the code block below prior to starting the exercise. The skeleton code has been provided for you. Edit only the `cleanFiles` function."
   ]
  },
  {
   "cell_type": "code",
   "execution_count": 196,
   "metadata": {},
   "outputs": [],
   "source": [
    "#Run this prior to starting the exercise\n",
    "from random import randint as rnd\n",
    "\n",
    "memReg = 'members.txt'\n",
    "exReg = 'inactive.txt'\n",
    "fee =('yes','no')\n",
    "\n",
    "def genFiles(current,old):\n",
    "    with open(current,'w+') as writefile: \n",
    "        writefile.write('Membership No  Date Joined  Active  \\n')\n",
    "        data = \"{:^13}  {:<11}  {:<6}\\n\"\n",
    "\n",
    "        for rowno in range(20):\n",
    "            date = str(rnd(2015,2020))+ '-' + str(rnd(1,12))+'-'+str(rnd(1,25))\n",
    "            writefile.write(data.format(rnd(10000,99999),date,fee[rnd(0,1)]))\n",
    "\n",
    "\n",
    "    with open(old,'w+') as writefile: \n",
    "        writefile.write('Membership No  Date Joined  Active  \\n')\n",
    "        data = \"{:^13}  {:<11}  {:<6}\\n\"\n",
    "        for rowno in range(3):\n",
    "            date = str(rnd(2015,2020))+ '-' + str(rnd(1,12))+'-'+str(rnd(1,25))\n",
    "            writefile.write(data.format(rnd(10000,99999),date,fee[1]))\n",
    "\n",
    "\n",
    "genFiles(memReg,exReg)\n"
   ]
  },
  {
   "cell_type": "code",
   "execution_count": 201,
   "metadata": {},
   "outputs": [
    {
     "name": "stdout",
     "output_type": "stream",
     "text": [
      "members.txt\n"
     ]
    }
   ],
   "source": [
    "with open(\"members.txt\", \"r+\") as readfile:\n",
    "\n",
    "   with open(\"inactive.txt\", \"a+\") as writefile:\n",
    "        data = readfile.readlines()   \n",
    "        print(readfile.name)\n",
    "\n",
    "\n",
    "                \n",
    "                      "
   ]
  },
  {
   "cell_type": "code",
   "execution_count": 189,
   "metadata": {},
   "outputs": [
    {
     "name": "stdout",
     "output_type": "stream",
     "text": [
      "Active Members: \n",
      "\n",
      "\n",
      "Membership No  Date Joined  Active  \n",
      "    47883      2019-3-20    yes   \n",
      "    16602      2016-12-6    no    \n",
      "    30935      2016-5-15    yes   \n",
      "    67826      2019-2-23    yes   \n",
      "    13633      2019-9-24    yes   \n",
      "    99111      2018-4-19    no    \n",
      "    75770      2018-3-1     yes   \n",
      "    90064      2019-3-18    no    \n",
      "    50637      2017-2-16    no    \n",
      "    78920      2018-11-10   yes   \n",
      "    65583      2020-12-14   yes   \n",
      "    60345      2018-6-22    no    \n",
      "    16052      2019-12-15   no    \n",
      "    58160      2020-9-10    no    \n",
      "    45507      2020-1-20    yes   \n",
      "    69294      2017-11-20   yes   \n",
      "    41680      2019-8-10    yes   \n",
      "    86789      2018-9-2     yes   \n",
      "    46017      2020-11-6    no    \n",
      "    27709      2019-10-3    no    \n",
      "Membership No  Date Joined  Active  \n",
      "    47883      2019-3-20    yes   \n",
      "    30935      2016-5-15    yes   \n",
      "    67826      2019-2-23    yes   \n",
      "    13633      2019-9-24    yes   \n",
      "    75770      2018-3-1     yes   \n",
      "    78920      2018-11-10   yes   \n",
      "    65583      2020-12-14   yes   \n",
      "    45507      2020-1-20    yes   \n",
      "    69294      2017-11-20   yes   \n",
      "    41680      2019-8-10    yes   \n",
      "    86789      2018-9-2     yes   \n",
      "\n",
      "Inactive Members: \n",
      "\n",
      "\n",
      "Membership No  Date Joined  Active  \n",
      "    82628      2017-1-16    no    \n",
      "    94514      2018-2-6     no    \n",
      "    40844      2018-11-25   no    \n",
      "    16602      2016-12-6    no    \n",
      "    99111      2018-4-19    no    \n",
      "    90064      2019-3-18    no    \n",
      "    50637      2017-2-16    no    \n",
      "    60345      2018-6-22    no    \n",
      "    16052      2019-12-15   no    \n",
      "    58160      2020-9-10    no    \n",
      "    46017      2020-11-6    no    \n",
      "    27709      2019-10-3    no    \n",
      "\n"
     ]
    }
   ],
   "source": [
    "  \n",
    "'''\n",
    "The two arguments for this function are the files:\n",
    "    - currentMem: File containing list of current members\n",
    "    - exMem: File containing list of old members\n",
    "    \n",
    "    This function should remove all rows from currentMem containing 'no' \n",
    "    in the 'Active' column and appends them to exMem.\n",
    "    '''\n",
    "def cleanFiles(currentMem, exMem):\n",
    "    # TODO: Open the currentMem file as in r+ mode\n",
    "    with open(currentMem, 'r+') as current:\n",
    "        #TODO: Open the exMem file in a+ mode\n",
    "        with open(exMem, 'a+') as ex:\n",
    "        #TODO: Read each member in the currentMem (1 member per row) file into a list.\n",
    "            data = current.readlines()\n",
    "        # Hint: Recall that the first line in the file is the header.\n",
    "            for d in data:\n",
    "                d2 = d.split()\n",
    "                if d2[2] == 'no':\n",
    "                    ex.write(d)\n",
    "                else:\n",
    "                    current.write(d)\n",
    "\n",
    "        #TODO: iterate through the members and create a new list of the innactive members\n",
    "\n",
    "        # Go to the beginning of the currentMem file\n",
    "        # TODO: Iterate through the members list. \n",
    "        # If a member is inactive, add them to exMem, otherwise write them into currentMem\n",
    "\n",
    "        \n",
    "    \n",
    "    # pass # Remove this line when done implementation\n",
    "\n",
    "\n",
    "# The code below is to help you view the files.\n",
    "# Do not modify this code for this exercise.\n",
    "memReg = 'members.txt'\n",
    "exReg = 'inactive.txt'\n",
    "cleanFiles(memReg,exReg)\n",
    "\n",
    "\n",
    "headers = \"Membership No  Date Joined  Active  \\n\"\n",
    "with open(memReg,'r') as readFile:\n",
    "    print(\"Active Members: \\n\\n\")\n",
    "    print(readFile.read())\n",
    "    \n",
    "with open(exReg,'r') as readFile:\n",
    "    print(\"Inactive Members: \\n\\n\")\n",
    "    print(readFile.read())\n",
    "                \n",
    "    "
   ]
  },
  {
   "cell_type": "code",
   "execution_count": 190,
   "metadata": {},
   "outputs": [
    {
     "name": "stdout",
     "output_type": "stream",
     "text": [
      "The number of rows do not add up. Make sure your final files have the same header and format.\n",
      "Inactive members in file\n",
      "Test Failed\n"
     ]
    }
   ],
   "source": [
    "def testMsg(passed):\n",
    "    if passed:\n",
    "       return 'Test Passed'\n",
    "    else :\n",
    "       return 'Test Failed'\n",
    "\n",
    "testWrite = \"testWrite.txt\"\n",
    "testAppend = \"testAppend.txt\" \n",
    "passed = True\n",
    "\n",
    "genFiles(testWrite,testAppend)\n",
    "\n",
    "with open(testWrite,'r') as file:\n",
    "    ogWrite = file.readlines()\n",
    "\n",
    "with open(testAppend,'r') as file:\n",
    "    ogAppend = file.readlines()\n",
    "\n",
    "try:\n",
    "    cleanFiles(testWrite,testAppend)\n",
    "except:\n",
    "    print('Error')\n",
    "\n",
    "with open(testWrite,'r') as file:\n",
    "    clWrite = file.readlines()\n",
    "\n",
    "with open(testAppend,'r') as file:\n",
    "    clAppend = file.readlines()\n",
    "        \n",
    "# checking if total no of rows is same, including headers\n",
    "\n",
    "if (len(ogWrite) + len(ogAppend) != len(clWrite) + len(clAppend)):\n",
    "    print(\"The number of rows do not add up. Make sure your final files have the same header and format.\")\n",
    "    passed = False\n",
    "    \n",
    "for line in clWrite:\n",
    "    if  'no' in line:\n",
    "        passed = False\n",
    "        print(\"Inactive members in file\")\n",
    "        break\n",
    "    else:\n",
    "        if line not in ogWrite:\n",
    "            print(\"Data in file does not match original file\")\n",
    "            passed = False\n",
    "print (\"{}\".format(testMsg(passed)))\n",
    "    \n",
    "\n"
   ]
  }
 ],
 "metadata": {
  "kernelspec": {
   "display_name": "Python 3.9.12 ('base')",
   "language": "python",
   "name": "python3"
  },
  "language_info": {
   "codemirror_mode": {
    "name": "ipython",
    "version": 3
   },
   "file_extension": ".py",
   "mimetype": "text/x-python",
   "name": "python",
   "nbconvert_exporter": "python",
   "pygments_lexer": "ipython3",
   "version": "3.9.12"
  },
  "orig_nbformat": 4,
  "vscode": {
   "interpreter": {
    "hash": "54d8efc0accedf8a71318180958b2a2c3ace073b5a0267b0b56f49dfe74d51c0"
   }
  }
 },
 "nbformat": 4,
 "nbformat_minor": 2
}
