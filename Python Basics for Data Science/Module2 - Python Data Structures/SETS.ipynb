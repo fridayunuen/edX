{
 "cells": [
  {
   "cell_type": "markdown",
   "id": "aa4b3765",
   "metadata": {},
   "source": [
    "# SETS\n",
    "Another type of collection \n",
    "\n",
    "You can input different Python types\n",
    "\n",
    "Sets only have unique elements "
   ]
  },
  {
   "cell_type": "code",
   "execution_count": 1,
   "id": "5b57404d",
   "metadata": {},
   "outputs": [
    {
     "data": {
      "text/plain": [
       "{'metal', 'pop', 'rock'}"
      ]
     },
     "execution_count": 1,
     "metadata": {},
     "output_type": "execute_result"
    }
   ],
   "source": [
    "SET1 = {\"pop\", \"rock\", \"metal\", \"rock\"}\n",
    "SET1"
   ]
  },
  {
   "cell_type": "markdown",
   "id": "45368bba",
   "metadata": {},
   "source": [
    "You can convert a list to a set  by set() type casting"
   ]
  },
  {
   "cell_type": "code",
   "execution_count": 2,
   "id": "1b9b8aa3",
   "metadata": {},
   "outputs": [],
   "source": [
    "SET1.add(\"NYSC\")"
   ]
  },
  {
   "cell_type": "code",
   "execution_count": 3,
   "id": "b5d36405",
   "metadata": {},
   "outputs": [
    {
     "data": {
      "text/plain": [
       "{'NYSC', 'metal', 'pop', 'rock'}"
      ]
     },
     "execution_count": 3,
     "metadata": {},
     "output_type": "execute_result"
    }
   ],
   "source": [
    "SET1"
   ]
  },
  {
   "cell_type": "code",
   "execution_count": 4,
   "id": "02e1ba5d",
   "metadata": {},
   "outputs": [
    {
     "data": {
      "text/plain": [
       "{'metal', 'pop', 'rock'}"
      ]
     },
     "execution_count": 4,
     "metadata": {},
     "output_type": "execute_result"
    }
   ],
   "source": [
    "SET1.remove(\"NYSC\")\n",
    "SET1"
   ]
  },
  {
   "cell_type": "code",
   "execution_count": 5,
   "id": "95935f35",
   "metadata": {},
   "outputs": [
    {
     "data": {
      "text/plain": [
       "True"
      ]
     },
     "execution_count": 5,
     "metadata": {},
     "output_type": "execute_result"
    }
   ],
   "source": [
    "\"pop\" in SET1"
   ]
  },
  {
   "cell_type": "code",
   "execution_count": 7,
   "id": "2b6027a1",
   "metadata": {},
   "outputs": [],
   "source": [
    "SET2 = {\"bachata\", \"merengue\", \"pop\", \"metal\"}\n",
    "        "
   ]
  },
  {
   "cell_type": "code",
   "execution_count": 8,
   "id": "9222725c",
   "metadata": {},
   "outputs": [
    {
     "data": {
      "text/plain": [
       "{'metal', 'pop'}"
      ]
     },
     "execution_count": 8,
     "metadata": {},
     "output_type": "execute_result"
    }
   ],
   "source": [
    "SET1 & SET2"
   ]
  },
  {
   "cell_type": "code",
   "execution_count": 9,
   "id": "6313c872",
   "metadata": {},
   "outputs": [
    {
     "data": {
      "text/plain": [
       "{'bachata', 'merengue', 'metal', 'pop', 'rock'}"
      ]
     },
     "execution_count": 9,
     "metadata": {},
     "output_type": "execute_result"
    }
   ],
   "source": [
    "SET1.union(SET2)"
   ]
  },
  {
   "cell_type": "code",
   "execution_count": 11,
   "id": "c40709d5",
   "metadata": {},
   "outputs": [
    {
     "data": {
      "text/plain": [
       "True"
      ]
     },
     "execution_count": 11,
     "metadata": {},
     "output_type": "execute_result"
    }
   ],
   "source": [
    "SET3 = {\"pop\", \"rock\"}\n",
    "SET3.issubset(SET1)"
   ]
  },
  {
   "cell_type": "code",
   "execution_count": 12,
   "id": "172b554f",
   "metadata": {},
   "outputs": [
    {
     "data": {
      "text/plain": [
       "({'metal', 'pop', 'rock'}, {'bachata', 'merengue', 'metal', 'pop'})"
      ]
     },
     "execution_count": 12,
     "metadata": {},
     "output_type": "execute_result"
    }
   ],
   "source": [
    "SET1, SET2"
   ]
  },
  {
   "cell_type": "code",
   "execution_count": 16,
   "id": "f2e41d8b",
   "metadata": {},
   "outputs": [
    {
     "data": {
      "text/plain": [
       "{'bachata', 'merengue'}"
      ]
     },
     "execution_count": 16,
     "metadata": {},
     "output_type": "execute_result"
    }
   ],
   "source": [
    "SET2.difference(SET1)"
   ]
  },
  {
   "cell_type": "code",
   "execution_count": 17,
   "id": "198a6ed4",
   "metadata": {},
   "outputs": [
    {
     "data": {
      "text/plain": [
       "False"
      ]
     },
     "execution_count": 17,
     "metadata": {},
     "output_type": "execute_result"
    }
   ],
   "source": [
    "SET3.issuperset(SET1)"
   ]
  }
 ],
 "metadata": {
  "kernelspec": {
   "display_name": "Python 3 (ipykernel)",
   "language": "python",
   "name": "python3"
  },
  "language_info": {
   "codemirror_mode": {
    "name": "ipython",
    "version": 3
   },
   "file_extension": ".py",
   "mimetype": "text/x-python",
   "name": "python",
   "nbconvert_exporter": "python",
   "pygments_lexer": "ipython3",
   "version": "3.9.12"
  }
 },
 "nbformat": 4,
 "nbformat_minor": 5
}
