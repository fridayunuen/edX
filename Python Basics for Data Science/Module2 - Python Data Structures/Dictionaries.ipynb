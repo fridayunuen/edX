{
 "cells": [
  {
   "cell_type": "markdown",
   "id": "c25b4795",
   "metadata": {},
   "source": [
    "# Dictionaries\n",
    "Dictionaries are a type of collection in Python \n",
    "\n",
    "\n",
    "Had key and values it not to be integers "
   ]
  },
  {
   "cell_type": "code",
   "execution_count": 3,
   "id": "5a5c93d8",
   "metadata": {},
   "outputs": [
    {
     "data": {
      "text/plain": [
       "{'Thriller': 1982,\n",
       " 'Back in Black': 1980,\n",
       " 'The Dark side of the moon': 1973,\n",
       " 'The bodyguard': 1992}"
      ]
     },
     "execution_count": 3,
     "metadata": {},
     "output_type": "execute_result"
    }
   ],
   "source": [
    "DICT = {\"Thriller\": 1982,\"Back in Black\": 1980, \"The Dark side of the moon\": 1973, \"The bodyguard\": 1992 }\n",
    "DICT"
   ]
  },
  {
   "cell_type": "code",
   "execution_count": 4,
   "id": "bc2f629f",
   "metadata": {},
   "outputs": [
    {
     "data": {
      "text/plain": [
       "1982"
      ]
     },
     "execution_count": 4,
     "metadata": {},
     "output_type": "execute_result"
    }
   ],
   "source": [
    "DICT[\"Thriller\"]"
   ]
  },
  {
   "cell_type": "code",
   "execution_count": 5,
   "id": "3995a234",
   "metadata": {},
   "outputs": [],
   "source": [
    "DICT[\"Graduation\"] = 2022"
   ]
  },
  {
   "cell_type": "code",
   "execution_count": 6,
   "id": "4efce5e4",
   "metadata": {},
   "outputs": [
    {
     "data": {
      "text/plain": [
       "{'Thriller': 1982,\n",
       " 'Back in Black': 1980,\n",
       " 'The Dark side of the moon': 1973,\n",
       " 'The bodyguard': 1992,\n",
       " 'Graduation': 2022}"
      ]
     },
     "execution_count": 6,
     "metadata": {},
     "output_type": "execute_result"
    }
   ],
   "source": [
    "DICT"
   ]
  },
  {
   "cell_type": "code",
   "execution_count": 7,
   "id": "53df8c32",
   "metadata": {},
   "outputs": [],
   "source": [
    "del(DICT[\"Thriller\"])"
   ]
  },
  {
   "cell_type": "code",
   "execution_count": 8,
   "id": "0e2a9a3d",
   "metadata": {},
   "outputs": [
    {
     "data": {
      "text/plain": [
       "{'Back in Black': 1980,\n",
       " 'The Dark side of the moon': 1973,\n",
       " 'The bodyguard': 1992,\n",
       " 'Graduation': 2022}"
      ]
     },
     "execution_count": 8,
     "metadata": {},
     "output_type": "execute_result"
    }
   ],
   "source": [
    "DICT"
   ]
  },
  {
   "cell_type": "code",
   "execution_count": 9,
   "id": "8b117926",
   "metadata": {},
   "outputs": [
    {
     "data": {
      "text/plain": [
       "True"
      ]
     },
     "execution_count": 9,
     "metadata": {},
     "output_type": "execute_result"
    }
   ],
   "source": [
    "\"Graduation\" in DICT"
   ]
  },
  {
   "cell_type": "code",
   "execution_count": 10,
   "id": "83657bcb",
   "metadata": {},
   "outputs": [
    {
     "data": {
      "text/plain": [
       "dict_keys(['Back in Black', 'The Dark side of the moon', 'The bodyguard', 'Graduation'])"
      ]
     },
     "execution_count": 10,
     "metadata": {},
     "output_type": "execute_result"
    }
   ],
   "source": [
    "DICT.keys()"
   ]
  },
  {
   "cell_type": "code",
   "execution_count": 11,
   "id": "0db88cc5",
   "metadata": {},
   "outputs": [
    {
     "data": {
      "text/plain": [
       "dict_values([1980, 1973, 1992, 2022])"
      ]
     },
     "execution_count": 11,
     "metadata": {},
     "output_type": "execute_result"
    }
   ],
   "source": [
    "DICT.values()"
   ]
  }
 ],
 "metadata": {
  "kernelspec": {
   "display_name": "Python 3.9.12 ('base')",
   "language": "python",
   "name": "python3"
  },
  "language_info": {
   "codemirror_mode": {
    "name": "ipython",
    "version": 3
   },
   "file_extension": ".py",
   "mimetype": "text/x-python",
   "name": "python",
   "nbconvert_exporter": "python",
   "pygments_lexer": "ipython3",
   "version": "3.9.12"
  },
  "vscode": {
   "interpreter": {
    "hash": "54d8efc0accedf8a71318180958b2a2c3ace073b5a0267b0b56f49dfe74d51c0"
   }
  }
 },
 "nbformat": 4,
 "nbformat_minor": 5
}
